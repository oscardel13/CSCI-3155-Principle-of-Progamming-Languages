{
 "cells": [
  {
   "cell_type": "markdown",
   "metadata": {},
   "source": [
    "# Homework 1\n",
    "Oscar Delgado\n"
   ]
  },
  {
   "cell_type": "code",
   "execution_count": 3,
   "metadata": {},
   "outputs": [
    {
     "data": {
      "text/plain": [
       "defined trait Nat\n",
       "defined object Zero\n",
       "defined class Succ\n",
       "one: Succ = Succ(Zero)\n",
       "two: Succ = Succ(Succ(Zero))\n",
       "three: Succ = Succ(Succ(Succ(Zero)))\n",
       "four: Succ = Succ(Succ(Succ(Succ(Zero))))\n",
       "five: Succ = Succ(Succ(Succ(Succ(Succ(Zero)))))\n",
       "plus: (x: Nat, y: Nat)Nat\n"
      ]
     },
     "execution_count": 3,
     "metadata": {},
     "output_type": "execute_result"
    }
   ],
   "source": [
    "sealed trait Nat\n",
    "case object Zero extends Nat\n",
    "case class Succ(pred : Nat) extends Nat\n",
    "\n",
    "val one = Succ(Zero)\n",
    "val two = Succ(one)\n",
    "val three = Succ(two)\n",
    "val four = Succ(three)\n",
    "val five = Succ(four)\n",
    "\n",
    "def plus(x : Nat, y : Nat) : Nat = x match {\n",
    "    case Zero    => y\n",
    "    case Succ(x) => Succ(plus(x, y))\n",
    "}"
   ]
  },
  {
   "cell_type": "markdown",
   "metadata": {},
   "source": [
    "The following code is a function to pretty-print natural numbers. Feel\n",
    "free to use these to test your implementations.\n",
    "There is a similiar function for lists defined below. Please ignore the \n",
    "helper functions. They use some tricks to make it easy to implement this\n",
    "functionality. How they work will be explained at a later point."
   ]
  },
  {
   "cell_type": "code",
   "execution_count": 4,
   "metadata": {},
   "outputs": [
    {
     "data": {
      "text/plain": [
       "4"
      ]
     },
     "execution_count": 4,
     "metadata": {},
     "output_type": "execute_result"
    }
   ],
   "source": [
    "def nat_to_int(x : Nat) : Int = x match {\n",
    "    case Zero => 0\n",
    "    case Succ( x ) => 1 + nat_to_int(x)\n",
    "}\n",
    "\n",
    "def print_nat(x : Nat) : String = nat_to_int(x).toString\n",
    "\n",
    "print_nat(four)"
   ]
  },
  {
   "cell_type": "markdown",
   "metadata": {},
   "source": []
  },
  {
   "cell_type": "markdown",
   "metadata": {},
   "source": [
    "## Natural Numbers\n",
    "\n",
    "Write some functions on natural numbers. For better visualization you can use the print_nat function provided above to see these numbers in the base-10 system.\n",
    "\n",
    "## Problem 1: Multiplication\n",
    "\n",
    "Given the definition of plus above, write the multiplication function"
   ]
  },
  {
   "cell_type": "code",
   "execution_count": 5,
   "metadata": {},
   "outputs": [
    {
     "data": {
      "text/plain": [
       "mult: (x: Nat, y: Nat)Nat\n"
      ]
     },
     "execution_count": 5,
     "metadata": {},
     "output_type": "execute_result"
    }
   ],
   "source": [
    "def mult(x : Nat, y : Nat) : Nat = (x,y) match {\n",
    "    case (Zero,y)=> Zero\n",
    "    case (Succ(x),y) => plus(mult(x,y),y)\n",
    "}"
   ]
  },
  {
   "cell_type": "code",
   "execution_count": 6,
   "metadata": {},
   "outputs": [
    {
     "data": {
      "text/plain": [
       "25"
      ]
     },
     "execution_count": 6,
     "metadata": {},
     "output_type": "execute_result"
    }
   ],
   "source": [
    "print_nat(mult(five, four)) // Should be 20\n",
    "print_nat(mult(five, five)) // Should be 25"
   ]
  },
  {
   "cell_type": "markdown",
   "metadata": {},
   "source": [
    "In this first homework we will work more on writing datatypes and functions over them\n",
    "\n",
    "## Lists\n",
    "\n",
    "Here is the definition of lists of numbers that was given in class:\n",
    "\n",
    "$$\n",
    "\\begin{align}\n",
    "\\text{List}\\ :=&\\ \\text{Empty}\\\\\n",
    "\\mid&\\ \\text{Cons}\\ \\mathbb{N}\\ \\text{List}\n",
    "\\end{align}\n",
    "$$\n",
    "\n",
    "## Problem 2: Defining List\n",
    "\n",
    "Define lists in Scala.  If you need help, try looking at the notebook from the recitation"
   ]
  },
  {
   "cell_type": "code",
   "execution_count": 7,
   "metadata": {},
   "outputs": [
    {
     "data": {
      "text/plain": [
       "defined trait List\n",
       "defined object Empty\n",
       "defined class Cons\n"
      ]
     },
     "execution_count": 7,
     "metadata": {},
     "output_type": "execute_result"
    }
   ],
   "source": [
    "sealed trait List\n",
    "case object Empty extends List \n",
    "case class Cons(head: Nat, tail: List) extends List"
   ]
  },
  {
   "cell_type": "markdown",
   "metadata": {},
   "source": [
    "If you've defined this correctly, the following examples should compile and pretty-print"
   ]
  },
  {
   "cell_type": "code",
   "execution_count": 8,
   "metadata": {},
   "outputs": [
    {
     "data": {
      "text/plain": [
       "Empty"
      ]
     },
     "execution_count": 8,
     "metadata": {},
     "output_type": "execute_result"
    }
   ],
   "source": [
    "def ex1 = Cons(one, Cons(two, Cons(three, Cons(four, Cons(five, Empty)))))\n",
    "def ex2 = Cons(one, Empty)\n",
    "def ex3 = Empty"
   ]
  },
  {
   "cell_type": "markdown",
   "metadata": {},
   "source": [
    "### List Prettyprinting\n",
    "\n",
    "Here is a pretty printer for lists. You should be able to make sense of what it is doing. Feel free to use it going forward."
   ]
  },
  {
   "cell_type": "code",
   "execution_count": 9,
   "metadata": {},
   "outputs": [
    {
     "data": {
      "text/plain": [
       "print_list_helper: (xs: List)String\n",
       "print_list: (xs: List)String\n"
      ]
     },
     "execution_count": 9,
     "metadata": {},
     "output_type": "execute_result"
    }
   ],
   "source": [
    "def print_list_helper(xs : List) : String = xs match {\n",
    "    case Empty => \"\"\n",
    "    case Cons(x, Empty) => print_nat(x)\n",
    "    case Cons(x, xs) => print_nat(x) + \", \" + print_list_helper(xs)\n",
    "}\n",
    "\n",
    "def print_list(xs : List) : String = \"[\" + print_list_helper(xs) + \"]\"\n"
   ]
  },
  {
   "cell_type": "markdown",
   "metadata": {},
   "source": [
    "If you defined the list datatype correctly, the following cell should print each list in a more human-readable way."
   ]
  },
  {
   "cell_type": "code",
   "execution_count": 10,
   "metadata": {},
   "outputs": [
    {
     "data": {
      "text/plain": [
       "[]"
      ]
     },
     "execution_count": 10,
     "metadata": {},
     "output_type": "execute_result"
    }
   ],
   "source": [
    "print_list(ex1)\n",
    "print_list(ex2)\n",
    "print_list(ex3)"
   ]
  },
  {
   "cell_type": "markdown",
   "metadata": {},
   "source": [
    "## Problem 3: Length\n",
    "\n",
    "Write the length function for lists. This function should take in a List and return its length as a Nat."
   ]
  },
  {
   "cell_type": "code",
   "execution_count": 11,
   "metadata": {},
   "outputs": [
    {
     "data": {
      "text/plain": [
       "length: (xs: List)Nat\n"
      ]
     },
     "execution_count": 11,
     "metadata": {},
     "output_type": "execute_result"
    }
   ],
   "source": [
    "def length(xs : List) : Nat = xs match {\n",
    "    case Empty => Zero\n",
    "    case Cons(x,xs) => plus(length(xs),one)\n",
    "}"
   ]
  },
  {
   "cell_type": "code",
   "execution_count": 12,
   "metadata": {},
   "outputs": [
    {
     "data": {
      "text/plain": [
       "5"
      ]
     },
     "execution_count": 12,
     "metadata": {},
     "output_type": "execute_result"
    }
   ],
   "source": [
    "print_nat(length(Empty))\n",
    "\n",
    "print_nat(length(ex1))"
   ]
  },
  {
   "cell_type": "markdown",
   "metadata": {},
   "source": [
    "## Problem 4: Init\n",
    "\n",
    "Write a function that removes the last element in the list"
   ]
  },
  {
   "cell_type": "code",
   "execution_count": 13,
   "metadata": {},
   "outputs": [
    {
     "data": {
      "text/plain": [
       "init: (xs: List)List\n"
      ]
     },
     "execution_count": 13,
     "metadata": {},
     "output_type": "execute_result"
    }
   ],
   "source": [
    "def init(xs : List) : List = xs match {\n",
    "    case Empty => Empty\n",
    "    case Cons(x,Empty) => Empty\n",
    "    case Cons(x,xs) => Cons(x,init(xs))\n",
    "}"
   ]
  },
  {
   "cell_type": "code",
   "execution_count": 147,
   "metadata": {},
   "outputs": [
    {
     "data": {
      "text/plain": [
       "[]"
      ]
     },
     "execution_count": 147,
     "metadata": {},
     "output_type": "execute_result"
    }
   ],
   "source": [
    "print_list(init(ex1)) // should be [1, 2, 3, 4]\n",
    "print_list(init(ex2)) // should be [ ]"
   ]
  },
  {
   "cell_type": "markdown",
   "metadata": {},
   "source": [
    "## Problem 5: Last\n",
    "\n",
    "define the function which returns a singleton list containing the last element of a list.\n",
    "\n",
    "Some Examples:\n",
    "\n",
    "* \\[ 1, 2, 3, 4 \\] -> \\[ 4 \\]\n",
    "* \\[ \\] -> \\[ \\]\n",
    "* \\[ 1 \\] -> \\[ 1 \\]"
   ]
  },
  {
   "cell_type": "code",
   "execution_count": 14,
   "metadata": {},
   "outputs": [
    {
     "data": {
      "text/plain": [
       "last: (xs: List)List\n"
      ]
     },
     "execution_count": 14,
     "metadata": {},
     "output_type": "execute_result"
    }
   ],
   "source": [
    "def last(xs : List) : List = xs match {\n",
    "    case Empty => Empty\n",
    "    case Cons(x,Empty) => Cons(x,Empty)\n",
    "    case Cons(x,xs) => last(xs)\n",
    "}"
   ]
  },
  {
   "cell_type": "code",
   "execution_count": 15,
   "metadata": {},
   "outputs": [
    {
     "data": {
      "text/plain": [
       "[]"
      ]
     },
     "execution_count": 15,
     "metadata": {},
     "output_type": "execute_result"
    }
   ],
   "source": [
    "print_list(last(ex1))\n",
    "print_list(last(ex2))\n",
    "print_list(last(ex3))"
   ]
  },
  {
   "cell_type": "markdown",
   "metadata": {},
   "source": [
    "## Bonus Problem: Append two lists\n",
    "\n",
    "Hint: You might want to use init and last to do this"
   ]
  },
  {
   "cell_type": "code",
   "execution_count": 17,
   "metadata": {},
   "outputs": [
    {
     "ename": "<console>",
     "evalue": "96",
     "output_type": "error",
     "text": "<console>:96: error: not found: type bs\n       def append(xs : List, bs : List) : List = (xs:bs) match{\n                                                     ^\n<console>:97: error: type mismatch;\n found   : Any\n required: List\n       case (bs,Empty) => bs\n                          ^\n<console>:98: error: type mismatch;\n found   : Nat\n required: List\n       case Cons(xs,bs) => append(last(bs),xs)\n                                           ^\n",
     "traceback": [
      "\u001b[1;31m<console>:96: error: not found: type bs\u001b[0;0m",
      "\u001b[1;31m       def append(xs : List, bs : List) : List = (xs:bs) match{\u001b[0;0m",
      "\u001b[1;31m                                                     ^\u001b[0;0m",
      "\u001b[1;31m<console>:97: error: type mismatch;\u001b[0;0m",
      "\u001b[1;31m found   : Any\u001b[0;0m",
      "\u001b[1;31m required: List\u001b[0;0m",
      "\u001b[1;31m       case (bs,Empty) => bs\u001b[0;0m",
      "\u001b[1;31m                          ^\u001b[0;0m",
      "\u001b[1;31m<console>:98: error: type mismatch;\u001b[0;0m",
      "\u001b[1;31m found   : Nat\u001b[0;0m",
      "\u001b[1;31m required: List\u001b[0;0m",
      "\u001b[1;31m       case Cons(xs,bs) => append(last(bs),xs)\u001b[0;0m",
      "\u001b[1;31m                                           ^\u001b[0;0m"
     ]
    }
   ],
   "source": [
    "def append(xs : List, bs : List) : List = (xs:bs) match{\n",
    "    case (empty,empty)\n",
    "    case (bs,Empty) => bs\n",
    "    case Cons(xs,bs) => append(last(bs),xs)\n",
    "}"
   ]
  },
  {
   "cell_type": "code",
   "execution_count": null,
   "metadata": {},
   "outputs": [],
   "source": [
    "print_list(append(ex1, Cons(Succ(five), Cons(three, Cons(Zero, Empty)))))"
   ]
  }
 ],
 "metadata": {
  "kernelspec": {
   "display_name": "Scala",
   "language": "scala",
   "name": "scala"
  },
  "language_info": {
   "codemirror_mode": "text/x-scala",
   "file_extension": ".scala",
   "mimetype": "",
   "name": "Scala",
   "nbconverter_exporter": "",
   "version": "2.11.12"
  }
 },
 "nbformat": 4,
 "nbformat_minor": 2
}
