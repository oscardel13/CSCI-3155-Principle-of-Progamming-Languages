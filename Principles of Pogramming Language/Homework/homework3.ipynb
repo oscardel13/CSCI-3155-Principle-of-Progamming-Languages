{
 "cells": [
  {
   "cell_type": "markdown",
   "metadata": {},
   "source": [
    "Before you turn this problem in, make sure everything runs as expected. First, **restart the kernel** (in the menubar, select Kernel$\\rightarrow$Restart) and then **run all cells** (in the menubar, select Cell$\\rightarrow$Run All).\n",
    "\n",
    "Make sure you fill in any place that says `YOUR CODE HERE` or \"YOUR ANSWER HERE\", as well as your name and collaborators below:"
   ]
  },
  {
   "cell_type": "code",
   "execution_count": null,
   "metadata": {},
   "outputs": [],
   "source": [
    "NAME = \"Oscar Delgado\"\n",
    "COLLABORATORS = \"Colin Murphy\""
   ]
  },
  {
   "cell_type": "markdown",
   "metadata": {},
   "source": [
    "---"
   ]
  },
  {
   "cell_type": "code",
   "execution_count": 2,
   "metadata": {},
   "outputs": [],
   "source": [
    "import $file.hw3stdlib\n",
    "import hw3stdlib._"
   ]
  },
  {
   "cell_type": "code",
   "execution_count": 1,
   "metadata": {},
   "outputs": [
    {
     "data": {
      "text/plain": [
       "defined trait Nat\n",
       "defined object Zero\n",
       "defined class Succ\n",
       "one: Succ = Succ(Zero)\n",
       "two: Succ = Succ(Succ(Zero))\n",
       "three: Succ = Succ(Succ(Succ(Zero)))\n",
       "four: Succ = Succ(Succ(Succ(Succ(Zero))))\n",
       "five: Succ = Succ(Succ(Succ(Succ(Succ(Zero)))))\n",
       "six: Succ = Succ(Succ(Succ(Succ(Succ(Succ(Zero))))))\n",
       "seven: Succ = Succ(Succ(Succ(Succ(Succ(Succ(Succ(Zero)))))))\n",
       "eight: Succ = Succ(Succ(Succ(Succ(Succ(Succ(Succ(Succ(Zero))))))))\n",
       "nine: Succ = Succ(Succ(Succ(Succ(Succ(Succ(Succ(Succ(Succ(Zero)))))))))\n",
       "ten: Succ = Succ(Succ(Succ(Succ(Succ(Succ(Succ(Succ(Succ(Succ(Zero))))))))))\n",
       "plus: (x: Nat, y: Nat)Nat\n",
       "nat_to_int: (x: Nat)Int\n",
       "print_nat: (x: Nat)String\n",
       "mult: (x: Nat, y: Nat)Nat\n",
       "minus: (x: Nat, y: Nat)Nat\n",
       "pow: (x: Nat, y: Nat)Nat\n",
       "lte: (x: Nat, y: Nat)Bool\n",
       "defined trait Bool\n",
       "defined object True\n",
       "defined obje..."
      ]
     },
     "execution_count": 1,
     "metadata": {},
     "output_type": "execute_result"
    }
   ],
   "source": []
  },
  {
   "cell_type": "markdown",
   "metadata": {},
   "source": [
    "# Homework 3\n",
    "\n",
    "Due Tuesday, June 18th at 11:59pm"
   ]
  },
  {
   "cell_type": "markdown",
   "metadata": {},
   "source": [
    "## Problem 1 (5 pts)\n",
    "\n",
    "Write the filter function. Remember that this should be polymorphic. So:\n",
    "\n",
    "$$\n",
    "filter : (a \\rightarrow \\mathbb{B}) \\rightarrow List\\ a \\rightarrow List\\ a\n",
    "$$\n",
    "\n",
    "If the predicate(The function we give it) is true for an element, then that element will be in the output list."
   ]
  },
  {
   "cell_type": "code",
   "execution_count": 8,
   "metadata": {
    "deletable": false,
    "nbgrader": {
     "checksum": "95cd4e26f0bc794ba00a6a36c036f63e",
     "grade": false,
     "grade_id": "filter",
     "locked": false,
     "schema_version": 1,
     "solution": true
    }
   },
   "outputs": [
    {
     "data": {
      "text/plain": [
       "filter: [A](p: A => Bool, xs: List[A])List[A]\n"
      ]
     },
     "execution_count": 8,
     "metadata": {},
     "output_type": "execute_result"
    }
   ],
   "source": [
    "def filter[A](p : (A => Bool), xs : List[A]) : List[A] = xs match{\n",
    "    case Empty => Empty\n",
    "    case Cons(x,xs) => p(x) match{\n",
    "        case True => Cons(x,filter(p,xs))\n",
    "        case False =>filter(p,xs)\n",
    "    }\n",
    "}\n"
   ]
  },
  {
   "cell_type": "code",
   "execution_count": 3,
   "metadata": {
    "deletable": false,
    "editable": false,
    "nbgrader": {
     "checksum": "fcc244865af5dbc35f2b98b0433ed827",
     "grade": true,
     "grade_id": "filter-tests",
     "locked": true,
     "points": 5,
     "schema_version": 1,
     "solution": false
    }
   },
   "outputs": [],
   "source": []
  },
  {
   "cell_type": "code",
   "execution_count": 3,
   "metadata": {
    "deletable": false,
    "editable": false,
    "nbgrader": {
     "checksum": "fcc244865af5dbc35f2b98b0433ed827",
     "grade": true,
     "grade_id": "filter-tests",
     "locked": true,
     "points": 5,
     "schema_version": 1,
     "solution": false
    }
   },
   "outputs": [],
   "source": [
    "//Tests to validate your answer\n",
    "val lt2 : Int => Bool = {\n",
    "    case x if x < 2 => True\n",
    "    case _ => False\n",
    "}\n",
    "assert(filter(lt2, Empty) == Empty)\n",
    "assert(filter(lt2, Cons(3,Empty)) == Empty)\n",
    "assert(filter(lt2, Cons(1,Empty)) == Cons(1,Empty))\n",
    "assert(filter(lt2, Cons(1,Cons(3,Empty))) == Cons(1,Empty))\n",
    "assert(filter(lt2, Cons(5,Cons(0, Cons(1,Cons(3,Empty))))) == Cons(0,Cons(1,Empty)))"
   ]
  },
  {
   "cell_type": "code",
   "execution_count": 3,
   "metadata": {
    "deletable": false,
    "editable": false,
    "nbgrader": {
     "checksum": "fcc244865af5dbc35f2b98b0433ed827",
     "grade": true,
     "grade_id": "filter-tests",
     "locked": true,
     "points": 5,
     "schema_version": 1,
     "solution": false
    }
   },
   "outputs": [
    {
     "ename": "<console>",
     "evalue": "107",
     "output_type": "error",
     "text": "<console>:107: error: not found: value filter\n       assert(filter(lt2, Cons(5,Cons(0, Cons(1,Cons(3,Empty))))) == Cons(0,Cons(1,Empty)))\n              ^\n<console>:101: error: not found: value filter\n       assert(filter(lt2, Empty) == Empty)\n              ^\n<console>:102: error: not found: value filter\n       assert(filter(lt2, Cons(3,Empty)) == Empty)\n              ^\n<console>:103: error: not found: value filter\n       assert(filter(lt2, Cons(1,Empty)) == Cons(1,Empty))\n              ^\n<console>:104: error: not found: value filter\n       assert(filter(lt2, Cons(1,Cons(3,Empty))) == Cons(1,Empty))\n              ^\n",
     "traceback": [
      "\u001b[1;31m<console>:107: error: not found: value filter\u001b[0;0m",
      "\u001b[1;31m       assert(filter(lt2, Cons(5,Cons(0, Cons(1,Cons(3,Empty))))) == Cons(0,Cons(1,Empty)))\u001b[0;0m",
      "\u001b[1;31m              ^\u001b[0;0m",
      "\u001b[1;31m<console>:101: error: not found: value filter\u001b[0;0m",
      "\u001b[1;31m       assert(filter(lt2, Empty) == Empty)\u001b[0;0m",
      "\u001b[1;31m              ^\u001b[0;0m",
      "\u001b[1;31m<console>:102: error: not found: value filter\u001b[0;0m",
      "\u001b[1;31m       assert(filter(lt2, Cons(3,Empty)) == Empty)\u001b[0;0m",
      "\u001b[1;31m              ^\u001b[0;0m",
      "\u001b[1;31m<console>:103: error: not found: value filter\u001b[0;0m",
      "\u001b[1;31m       assert(filter(lt2, Cons(1,Empty)) == Cons(1,Empty))\u001b[0;0m",
      "\u001b[1;31m              ^\u001b[0;0m",
      "\u001b[1;31m<console>:104: error: not found: value filter\u001b[0;0m",
      "\u001b[1;31m       assert(filter(lt2, Cons(1,Cons(3,Empty))) == Cons(1,Empty))\u001b[0;0m",
      "\u001b[1;31m              ^\u001b[0;0m"
     ]
    }
   ],
   "source": []
  },
  {
   "cell_type": "markdown",
   "metadata": {},
   "source": [
    "## Problem 2 (5 pts)\n",
    "\n",
    "Write a polymorphic version of maybe. Here is a reminder of the definition we gave in class:\n",
    "\n",
    "$$\n",
    "\\begin{align}\n",
    "\\text{Maybe}\\ a ::=&\\ \\text{Nothing}\\\\\n",
    "\\mid&\\ \\text{Just}\\ a\n",
    "\\end{align}\n",
    "$$ \n",
    "\n",
    "Hint: you should use the type `scala.Nothing` in your definition of `Nothing`. `scala.Nothing` is a built-in \"bottom\" type in Scala, meaning that it is a subtype of all other types.  Don't be confused by the name collision though -- `scala.Nothing` is very different from the `Nothing` type we're asking you to define."
   ]
  },
  {
   "cell_type": "code",
   "execution_count": 86,
   "metadata": {
    "deletable": false,
    "nbgrader": {
     "checksum": "e0d74a5b90ca3ffeb1a3aa480e4526c8",
     "grade": false,
     "grade_id": "maybe",
     "locked": false,
     "schema_version": 1,
     "solution": true
    }
   },
   "outputs": [
    {
     "data": {
      "text/plain": [
       "Nothing"
      ]
     },
     "execution_count": 86,
     "metadata": {},
     "output_type": "execute_result"
    }
   ],
   "source": [
    "sealed trait Maybe[+A]\n",
    "case class Just[A](a : A) extends Maybe[A]\n",
    "case object Nothing extends Maybe[scala.Nothing]"
   ]
  },
  {
   "cell_type": "code",
   "execution_count": 119,
   "metadata": {
    "deletable": false,
    "editable": false,
    "nbgrader": {
     "checksum": "40c66f042382cfe9d6288b06b1c89f86",
     "grade": true,
     "grade_id": "maybe-tests",
     "locked": true,
     "points": 5,
     "schema_version": 1,
     "solution": false
    }
   },
   "outputs": [
    {
     "data": {
      "text/plain": [
       "Just(True)"
      ]
     },
     "execution_count": 119,
     "metadata": {},
     "output_type": "execute_result"
    }
   ],
   "source": [
    "//Tests to validate your answer\n",
    "val x : Maybe[Bool] = if((new scala.util.Random()).nextBoolean()) Just(True) else Nothing"
   ]
  },
  {
   "cell_type": "markdown",
   "metadata": {},
   "source": [
    "## Problem 3 (5 pts)\n",
    "\n",
    "Write a higher-order function that applies a function to the element inside of $Just$ or if it is $Nothing$ maps to $Nothing$. We will call this $\\texttt{map_maybe}$.\n",
    "\n",
    "$$\n",
    "\\text{map_maybe} : (a \\rightarrow b) \\rightarrow \\text{Maybe}\\ a \\rightarrow \\text{Maybe}\\ b\n",
    "$$"
   ]
  },
  {
   "cell_type": "code",
   "execution_count": 131,
   "metadata": {
    "deletable": false,
    "nbgrader": {
     "checksum": "868af640bf66d5adbacdc5c8e2137917",
     "grade": false,
     "grade_id": "fmap",
     "locked": false,
     "schema_version": 1,
     "solution": true
    }
   },
   "outputs": [],
   "source": [
    "def map_maybe[A, B](f : (A => B), m : Maybe[A]) : Maybe[B] = m match{\n",
    "    case Nothing => Nothing\n",
    "    case Just(m) => Just(f(m))\n",
    "}"
   ]
  },
  {
   "cell_type": "code",
   "execution_count": 135,
   "metadata": {
    "deletable": false,
    "nbgrader": {
     "checksum": "868af640bf66d5adbacdc5c8e2137917",
     "grade": false,
     "grade_id": "fmap",
     "locked": false,
     "schema_version": 1,
     "solution": true
    }
   },
   "outputs": [
    {
     "data": {
      "text/plain": [
       "Just(hello world)"
      ]
     },
     "execution_count": 135,
     "metadata": {},
     "output_type": "execute_result"
    }
   ],
   "source": []
  },
  {
   "cell_type": "code",
   "execution_count": null,
   "metadata": {
    "deletable": false,
    "editable": false,
    "nbgrader": {
     "checksum": "b0d543e82575ae534f76172fd6f8e821",
     "grade": true,
     "grade_id": "fmap-tests",
     "locked": true,
     "points": 5,
     "schema_version": 1,
     "solution": false
    }
   },
   "outputs": [],
   "source": [
    "//Tests to validate your answer\n",
    "assert(map_maybe(lt2,Nothing) == Nothing)\n",
    "assert(map_maybe(lt2,Just(0)) == Just(True))\n",
    "assert(map_maybe({x:Bool => \"hello world\"},Just(True)) == Just(\"hello world\"))"
   ]
  }
 ],
 "metadata": {
  "kernelspec": {
   "display_name": "Scala",
   "language": "scala",
   "name": "scala"
  },
  "language_info": {
   "codemirror_mode": "text/x-scala",
   "file_extension": ".scala",
   "mimetype": "",
   "name": "Scala",
   "nbconverter_exporter": "",
   "version": "2.11.12"
  }
 },
 "nbformat": 4,
 "nbformat_minor": 2
}
