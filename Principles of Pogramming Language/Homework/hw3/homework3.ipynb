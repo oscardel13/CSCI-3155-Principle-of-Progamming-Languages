{
 "cells": [
  {
   "cell_type": "markdown",
   "metadata": {},
   "source": [
    "Before you turn this problem in, make sure everything runs as expected. First, **restart the kernel** (in the menubar, select Kernel$\\rightarrow$Restart) and then **run all cells** (in the menubar, select Cell$\\rightarrow$Run All).\n",
    "\n",
    "Make sure you fill in any place that says `YOUR CODE HERE` or \"YOUR ANSWER HERE\", as well as your name and collaborators below:"
   ]
  },
  {
   "cell_type": "code",
   "execution_count": null,
   "metadata": {},
   "outputs": [],
   "source": [
    "NAME = \"\"\n",
    "COLLABORATORS = \"\""
   ]
  },
  {
   "cell_type": "markdown",
   "metadata": {},
   "source": [
    "---"
   ]
  },
  {
   "cell_type": "code",
   "execution_count": null,
   "metadata": {},
   "outputs": [],
   "source": [
    "import $file.hw3stdlib\n",
    "import hw3stdlib._"
   ]
  },
  {
   "cell_type": "markdown",
   "metadata": {},
   "source": [
    "# Homework 3\n",
    "\n",
    "Due Tuesday, June 18th at 11:59pm"
   ]
  },
  {
   "cell_type": "markdown",
   "metadata": {},
   "source": [
    "## Problem 1 (5 pts)\n",
    "\n",
    "Write the filter function. Remember that this should be polymorphic. So:\n",
    "\n",
    "$$\n",
    "filter : (a \\rightarrow \\mathbb{B}) \\rightarrow List\\ a \\rightarrow List\\ a\n",
    "$$\n",
    "\n",
    "If the predicate(The function we give it) is true for an element, then that element will be in the output list."
   ]
  },
  {
   "cell_type": "code",
   "execution_count": null,
   "metadata": {
    "deletable": false,
    "nbgrader": {
     "checksum": "95cd4e26f0bc794ba00a6a36c036f63e",
     "grade": false,
     "grade_id": "filter",
     "locked": false,
     "schema_version": 1,
     "solution": true
    }
   },
   "outputs": [],
   "source": [
    "def filter[A](p : (A => Bool), xs : List[A]) : List[A] =\n",
    "??? // YOUR CODE HERE"
   ]
  },
  {
   "cell_type": "code",
   "execution_count": null,
   "metadata": {
    "deletable": false,
    "editable": false,
    "nbgrader": {
     "checksum": "fcc244865af5dbc35f2b98b0433ed827",
     "grade": true,
     "grade_id": "filter-tests",
     "locked": true,
     "points": 5,
     "schema_version": 1,
     "solution": false
    }
   },
   "outputs": [],
   "source": [
    "//Tests to validate your answer\n",
    "val lt2 : Int => Bool = {\n",
    "    case x if x < 2 => True\n",
    "    case _ => False\n",
    "}\n",
    "assert(filter(lt2, Empty) == Empty)\n",
    "assert(filter(lt2, Cons(3,Empty)) == Empty)\n",
    "assert(filter(lt2, Cons(1,Empty)) == Cons(1,Empty))\n",
    "assert(filter(lt2, Cons(1,Cons(3,Empty))) == Cons(1,Empty))\n",
    "assert(filter(lt2, Cons(5,Cons(0, Cons(1,Cons(3,Empty))))) == Cons(0,Cons(1,Empty)))"
   ]
  },
  {
   "cell_type": "markdown",
   "metadata": {},
   "source": [
    "## Problem 2 (5 pts)\n",
    "\n",
    "Write a polymorphic version of maybe. Here is a reminder of the definition we gave in class:\n",
    "\n",
    "$$\n",
    "\\begin{align}\n",
    "\\text{Maybe}\\ a ::=&\\ \\text{Nothing}\\\\\n",
    "\\mid&\\ \\text{Just}\\ a\n",
    "\\end{align}\n",
    "$$ \n",
    "\n",
    "Hint: you should use the type `scala.Nothing` in your definition of `Nothing`. `scala.Nothing` is a built-in \"bottom\" type in Scala, meaning that it is a subtype of all other types.  Don't be confused by the name collision though -- `scala.Nothing` is very different from the `Nothing` type we're asking you to define."
   ]
  },
  {
   "cell_type": "code",
   "execution_count": null,
   "metadata": {
    "deletable": false,
    "nbgrader": {
     "checksum": "e0d74a5b90ca3ffeb1a3aa480e4526c8",
     "grade": false,
     "grade_id": "maybe",
     "locked": false,
     "schema_version": 1,
     "solution": true
    }
   },
   "outputs": [],
   "source": [
    "??? // YOUR CODE HERE"
   ]
  },
  {
   "cell_type": "code",
   "execution_count": null,
   "metadata": {
    "deletable": false,
    "editable": false,
    "nbgrader": {
     "checksum": "40c66f042382cfe9d6288b06b1c89f86",
     "grade": true,
     "grade_id": "maybe-tests",
     "locked": true,
     "points": 5,
     "schema_version": 1,
     "solution": false
    }
   },
   "outputs": [],
   "source": [
    "//Tests to validate your answer\n",
    "val x : Maybe[Bool] = if((new scala.util.Random()).nextBoolean()) Just(True) else Nothing"
   ]
  },
  {
   "cell_type": "markdown",
   "metadata": {},
   "source": [
    "## Problem 3 (5 pts)\n",
    "\n",
    "Write a higher-order function that applies a function to the element inside of $Just$ or if it is $Nothing$ maps to $Nothing$. We will call this $\\texttt{map_maybe}$.\n",
    "\n",
    "$$\n",
    "\\text{map_maybe} : (a \\rightarrow b) \\rightarrow \\text{Maybe}\\ a \\rightarrow \\text{Maybe}\\ b\n",
    "$$"
   ]
  },
  {
   "cell_type": "code",
   "execution_count": null,
   "metadata": {
    "deletable": false,
    "nbgrader": {
     "checksum": "868af640bf66d5adbacdc5c8e2137917",
     "grade": false,
     "grade_id": "fmap",
     "locked": false,
     "schema_version": 1,
     "solution": true
    }
   },
   "outputs": [],
   "source": [
    "def map_maybe[A, B](f : (A => B), m : Maybe[A]) : Maybe[B] = \n",
    "??? // YOUR CODE HERE"
   ]
  },
  {
   "cell_type": "code",
   "execution_count": null,
   "metadata": {
    "deletable": false,
    "editable": false,
    "nbgrader": {
     "checksum": "b0d543e82575ae534f76172fd6f8e821",
     "grade": true,
     "grade_id": "fmap-tests",
     "locked": true,
     "points": 5,
     "schema_version": 1,
     "solution": false
    }
   },
   "outputs": [],
   "source": [
    "//Tests to validate your answer\n",
    "assert(map_maybe(lt2,Nothing) == Nothing)\n",
    "assert(map_maybe(lt2,Just(0)) == Just(True))\n",
    "assert(map_maybe({x:Bool => \"hello world\"},Just(True)) == Just(\"hello world\"))"
   ]
  }
 ],
 "metadata": {
  "kernelspec": {
   "display_name": "Scala",
   "language": "scala",
   "name": "scala"
  },
  "language_info": {
   "codemirror_mode": "text/x-scala",
   "file_extension": ".scala",
   "mimetype": "text/x-scala",
   "name": "scala",
   "nbconvert_exporter": "script",
   "version": "2.12.8"
  }
 },
 "nbformat": 4,
 "nbformat_minor": 2
}
