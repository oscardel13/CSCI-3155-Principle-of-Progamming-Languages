{
 "cells": [
  {
   "cell_type": "markdown",
   "metadata": {},
   "source": [
    "Before you turn this problem in, make sure everything runs as expected. First, **restart the kernel** (in the menubar, select Kernel$\\rightarrow$Restart) and then **run all cells** (in the menubar, select Cell$\\rightarrow$Run All).\n",
    "\n",
    "Make sure you fill in any place that says `YOUR CODE HERE` or \"YOUR ANSWER HERE\", as well as your name and collaborators below:"
   ]
  },
  {
   "cell_type": "markdown",
   "metadata": {},
   "source": [
    "NAME = \"Oscar Delgado\"\n",
    "COLLABORATORS = \"Colin Murphy\""
   ]
  },
  {
   "cell_type": "markdown",
   "metadata": {},
   "source": [
    "---"
   ]
  },
  {
   "cell_type": "code",
   "execution_count": null,
   "metadata": {},
   "outputs": [],
   "source": [
    "import $file.hw4stdlib\n",
    "import hw4stdlib._"
   ]
  },
  {
   "cell_type": "code",
   "execution_count": null,
   "metadata": {},
   "outputs": [],
   "source": []
  },
  {
   "cell_type": "markdown",
   "metadata": {},
   "source": [
    "# Homework 4\n",
    "\n",
    "This homework is a bit longer because of the Exam on Thursday. Thus it won't be due until June 25th at 11:59pm\n",
    "\n",
    "In this assignment we will develop our first interpreter. But before this we will need to define the Integers and the arithmetic operations for them."
   ]
  },
  {
   "cell_type": "markdown",
   "metadata": {},
   "source": [
    "# $\\mathbb{Z}$: The Integers\n",
    "\n",
    "For the arithmetic interpreter we will write later on in the homework we will need arithmetic operations for the integers. These will obviously correspond very closely to the operations defined on the Natural Numbers. But now we will need to account for negative numbers in a proper way. \n",
    "\n",
    "Start by defining the Algebraic Datatype(sealed trait with case classes) for the Integers. The encoded type should be:\n",
    "\n",
    "$$\n",
    "\\begin{align}\n",
    "    \\mathbb{Z} ::=&\\ \\text{Positive}\\ \\mathbb{N}\\\\\n",
    "    \\mid&\\ \\text{Negative}\\ \\mathbb{N}\n",
    "\\end{align}\n",
    "$$\n",
    "\n",
    "We will use this encoding because it will allow us to use some of our definitions for the Natural Numbers to define the operations on the Integers. This is the core strategy of functional programming: using smaller functions to build up larger ones. This is true even across types. We want to always minimize the ammount of code we have be reusing what we have already constructed, whenever possible. \n",
    "\n",
    "## Defining $\\mathbb{Z}$ (5 points)\n",
    "\n",
    "Define the ADT for Integers below: "
   ]
  },
  {
   "cell_type": "code",
   "execution_count": null,
   "metadata": {
    "deletable": false,
    "nbgrader": {
     "checksum": "6f006837cb2fdb577605129e44bf88bd",
     "grade": false,
     "grade_id": "ints",
     "locked": false,
     "schema_version": 1,
     "solution": true
    }
   },
   "outputs": [],
   "source": [
    "sealed trait Integer\n",
    "case class Positive(Pred : Nat) extends Integer\n",
    "case class Negative(Pred : Nat) extends Integer"
   ]
  },
  {
   "cell_type": "code",
   "execution_count": null,
   "metadata": {
    "deletable": false,
    "nbgrader": {
     "checksum": "6f006837cb2fdb577605129e44bf88bd",
     "grade": false,
     "grade_id": "ints",
     "locked": false,
     "schema_version": 1,
     "solution": true
    }
   },
   "outputs": [],
   "source": []
  },
  {
   "cell_type": "markdown",
   "metadata": {},
   "source": [
    "If your definition was correct the following functions should define and print some integers\n",
    "\n"
   ]
  },
  {
   "cell_type": "code",
   "execution_count": null,
   "metadata": {
    "deletable": false,
    "editable": false,
    "nbgrader": {
     "checksum": "9752d4e95b5174b5be6d1b127d5d3efd",
     "grade": true,
     "grade_id": "ints-test",
     "locked": true,
     "points": 5,
     "schema_version": 1,
     "solution": false
    }
   },
   "outputs": [],
   "source": [
    "//Autograder cell -- do not edit, delete, or duplicate.\n",
    "def pos_one : Integer = Positive(Succ(Zero))\n",
    "def neg_one : Integer = Negative(Succ(Zero))\n",
    "\n",
    "def int_to_str(x : Integer) : String = x match {\n",
    "    case Positive(x) => nat_to_str(x)\n",
    "    case Negative(x) => \"-\" + nat_to_str(x)\n",
    "}\n",
    "\n",
    "def print_integer(x : Integer) = println(int_to_str(x))\n",
    "assert(int_to_str(pos_one) equals \"1\")\n",
    "assert(int_to_str(neg_one) equals \"-1\")\n",
    "print_integer(pos_one)\n",
    "print_integer(neg_one)"
   ]
  },
  {
   "cell_type": "markdown",
   "metadata": {},
   "source": [
    "## Absolute Value and Negation \n",
    "\n",
    "### Absolute Value (5 points)\n",
    "\n",
    "Define the absolute value function for Integers. This should be a very simple function that takes an Integer and gives its absolute value as a $\\mathbb{N}$"
   ]
  },
  {
   "cell_type": "code",
   "execution_count": null,
   "metadata": {
    "deletable": false,
    "nbgrader": {
     "checksum": "b8bc368f3297f5d4ee15d1bc096bc969",
     "grade": false,
     "grade_id": "abs",
     "locked": false,
     "schema_version": 1,
     "solution": true
    }
   },
   "outputs": [],
   "source": [
    "def abs(x : Integer) : Nat = x match{\n",
    "    case Positive(x) => x\n",
    "    case Negative(x) => x\n",
    "}"
   ]
  },
  {
   "cell_type": "code",
   "execution_count": null,
   "metadata": {
    "deletable": false,
    "nbgrader": {
     "checksum": "b8bc368f3297f5d4ee15d1bc096bc969",
     "grade": false,
     "grade_id": "abs",
     "locked": false,
     "schema_version": 1,
     "solution": true
    }
   },
   "outputs": [],
   "source": []
  },
  {
   "cell_type": "code",
   "execution_count": null,
   "metadata": {
    "deletable": false,
    "editable": false,
    "nbgrader": {
     "checksum": "38d09adbe49a3892e9d81846fc7d94b1",
     "grade": true,
     "grade_id": "abs-test",
     "locked": true,
     "points": 5,
     "schema_version": 1,
     "solution": false
    }
   },
   "outputs": [],
   "source": [
    "//Autograder cell -- do not edit, delete, or duplicate.\n",
    "assert(abs(Positive(two)) equals two)\n",
    "assert(abs(Negative(two)) equals two)\n",
    "assert(abs(Negative(Zero)) equals abs(Positive(Zero)))\n"
   ]
  },
  {
   "cell_type": "markdown",
   "metadata": {},
   "source": [
    "### Negation (5 points)\n",
    "\n",
    "This should be very easy as well. Define the negation function. This makes a positive Integer negative and a negative Integer positive."
   ]
  },
  {
   "cell_type": "code",
   "execution_count": null,
   "metadata": {
    "deletable": false,
    "nbgrader": {
     "checksum": "2ddc0276814746f33eb585a7fbba7d11",
     "grade": false,
     "grade_id": "negate",
     "locked": false,
     "schema_version": 1,
     "solution": true
    }
   },
   "outputs": [],
   "source": [
    "def negate(x : Integer) : Integer = x match{\n",
    "    case Positive(x) => Negative(x)\n",
    "    case Negative(x) => Positive(x)\n",
    "}"
   ]
  },
  {
   "cell_type": "code",
   "execution_count": null,
   "metadata": {
    "deletable": false,
    "nbgrader": {
     "checksum": "2ddc0276814746f33eb585a7fbba7d11",
     "grade": false,
     "grade_id": "negate",
     "locked": false,
     "schema_version": 1,
     "solution": true
    }
   },
   "outputs": [],
   "source": []
  },
  {
   "cell_type": "code",
   "execution_count": null,
   "metadata": {
    "deletable": false,
    "editable": false,
    "nbgrader": {
     "checksum": "dd351ad48ba7352cdf22dd8a64135df6",
     "grade": true,
     "grade_id": "negate-test",
     "locked": true,
     "points": 5,
     "schema_version": 1,
     "solution": false
    }
   },
   "outputs": [],
   "source": [
    "//Autograder cell -- do not edit, delete, or duplicate.\n",
    "assert(negate(Positive(five)) equals Negative(five))\n",
    "assert(negate(Negative(seven)) equals Positive(seven))\n",
    "assert(negate(negate(Positive(five))) equals Positive(five))"
   ]
  },
  {
   "cell_type": "markdown",
   "metadata": {},
   "source": [
    "## Addition and Subtraction\n",
    "\n",
    "Define plus and minus for Integers. Don't use the versions we created for $\\mathbb{N}$ as it did some funky things to get minus to behave correctly. Try and create these from scratch instead. It is recommended to use the lte(less than or equals) function we defined last week along with abs to make the job easier. \n",
    "\n",
    "Note that we have renamed the operations for natural numbers so that they are of the form:\n",
    "\n"
   ]
  },
  {
   "cell_type": "markdown",
   "metadata": {},
   "source": [
    "``` nat_<operation name> ```\n",
    "\n",
    "For instance, plus has been renamed to ``` nat_plus ```. This was done so we don't have namespace conflicts\n",
    "\n",
    "### Addition (5 points)"
   ]
  },
  {
   "cell_type": "code",
   "execution_count": null,
   "metadata": {
    "deletable": false,
    "nbgrader": {
     "checksum": "797c0df785bfe287b26eb6286e5f0dff",
     "grade": false,
     "grade_id": "plus",
     "locked": false,
     "schema_version": 1,
     "solution": true
    }
   },
   "outputs": [],
   "source": [
    "def plus(n : Integer, m : Integer) : Integer = (n,m) match{\n",
    "    case (n,Positive(Zero)) => n\n",
    "    case (n,Negative(Zero)) => n\n",
    "    case (Positive(Zero),m) => m\n",
    "    case (Negative(Zero),m) => m\n",
    "    case (Positive(Succ(n)),Positive(m)) => plus(Positive(n),Positive(Succ(m))) \n",
    "    case (Negative(Succ(n)),Negative(m)) => plus(Negative(n),Negative(Succ(m)))\n",
    "    case (Positive(Succ(n)),Negative(Succ(m)))=> nat_lte(Succ(n),Succ(m)) match {\n",
    "        case False => plus(Positive(n),Negative(m))\n",
    "        case True => plus(Negative(m),Positive(n))\n",
    "    }\n",
    "    case (Negative(n),Positive(m)) =>plus(Positive(m),Negative(n))\n",
    "    \n",
    "}\n"
   ]
  },
  {
   "cell_type": "code",
   "execution_count": null,
   "metadata": {
    "deletable": false,
    "nbgrader": {
     "checksum": "797c0df785bfe287b26eb6286e5f0dff",
     "grade": false,
     "grade_id": "plus",
     "locked": false,
     "schema_version": 1,
     "solution": true
    }
   },
   "outputs": [],
   "source": []
  },
  {
   "cell_type": "code",
   "execution_count": null,
   "metadata": {
    "deletable": false,
    "editable": false,
    "nbgrader": {
     "checksum": "be3f198e44dbaaf7460117d53210efc2",
     "grade": true,
     "grade_id": "plus-test",
     "locked": true,
     "points": 5,
     "schema_version": 1,
     "solution": false
    }
   },
   "outputs": [],
   "source": [
    "//Autograder cell -- do not edit, delete, or duplicate.\n",
    "assert(plus(pos_one,pos_one) equals Positive(two))\n",
    "assert((plus(pos_one,neg_one) equals Positive(Zero)) ||\n",
    "       (plus(pos_one,neg_one) equals Negative(Zero)))\n",
    "assert(plus(Positive(five),Negative(two)) equals Positive(three))\n",
    "assert(plus(Positive(five),Positive(two)) equals Positive(seven))\n",
    "assert(plus(Positive(five),Negative(seven)) equals Negative(two))"
   ]
  },
  {
   "cell_type": "markdown",
   "metadata": {},
   "source": [
    "### Subtraction (5 points)\n",
    "\n",
    "Hint: Subtraction is very easy if you use ```plus``` and ```negate```"
   ]
  },
  {
   "cell_type": "code",
   "execution_count": null,
   "metadata": {
    "deletable": false,
    "nbgrader": {
     "checksum": "e934621bb750645575d68cf9eaa135db",
     "grade": false,
     "grade_id": "minus",
     "locked": false,
     "schema_version": 1,
     "solution": true
    }
   },
   "outputs": [],
   "source": [
    "def minus(x : Integer, y : Integer) : Integer = (x,y) match{\n",
    "    case (x,y) => plus(x,negate(y))\n",
    "}"
   ]
  },
  {
   "cell_type": "code",
   "execution_count": null,
   "metadata": {
    "deletable": false,
    "nbgrader": {
     "checksum": "e934621bb750645575d68cf9eaa135db",
     "grade": false,
     "grade_id": "minus",
     "locked": false,
     "schema_version": 1,
     "solution": true
    }
   },
   "outputs": [],
   "source": []
  },
  {
   "cell_type": "code",
   "execution_count": null,
   "metadata": {
    "deletable": false,
    "editable": false,
    "nbgrader": {
     "checksum": "c99d2945cf01865765a99b342ced96cd",
     "grade": true,
     "grade_id": "minus-test",
     "locked": true,
     "points": 5,
     "schema_version": 1,
     "solution": false
    }
   },
   "outputs": [],
   "source": [
    "//Autograder cell -- do not edit, delete, or duplicate.\n",
    "assert(minus(pos_one,neg_one) equals Positive(two))\n",
    "assert((minus(pos_one,pos_one) equals Positive(Zero)) ||\n",
    "       (minus(pos_one,pos_one) equals Negative(Zero)))\n",
    "assert(minus(Positive(five),Positive(two)) equals Positive(three))\n",
    "assert(minus(Negative(two),Positive(three)) equals Negative(five))\n",
    "assert(minus(Positive(five),Negative(two)) equals Positive(seven))\n",
    "assert(minus(Negative(three),Negative(seven)) equals Positive(four))"
   ]
  },
  {
   "cell_type": "markdown",
   "metadata": {},
   "source": [
    "## Multiplication and Exponentiation\n",
    "\n",
    "Write multiplication and exponentiation for Integers. You should be able to use ```nat_mult``` to greatly simplify this\n",
    "\n",
    "### Multiplication (5 points)"
   ]
  },
  {
   "cell_type": "code",
   "execution_count": null,
   "metadata": {
    "deletable": false,
    "nbgrader": {
     "checksum": "f448f61c47b969474ed437a538c5db14",
     "grade": false,
     "grade_id": "mult",
     "locked": false,
     "schema_version": 1,
     "solution": true
    }
   },
   "outputs": [],
   "source": [
    "def mult_helper(x : Nat, acc : Nat, y : Nat) : Nat = (x,acc,y) match{\n",
    "    case (x,acc,Zero) => acc\n",
    "    case (x,acc,Succ(y)) =>mult_helper(x,nat_plus(acc,x),y)\n",
    "}\n",
    "\n",
    "def mult(x : Integer, y : Integer) : Integer = (x,y) match{\n",
    "    case (x,Positive(Zero)) => Positive(Zero)\n",
    "    case (x,Negative(Zero)) => Positive(Zero)\n",
    "    case (Positive(Zero),y) => Positive(Zero)\n",
    "    case (Negative(Zero),y) => Positive(Zero)\n",
    "    case (Positive(x),Positive(y)) => Positive(mult_helper(x,Zero,y))\n",
    "    case (Negative(x),Negative(y)) => Positive(mult_helper(x,Zero,y))\n",
    "    case _=> Negative(mult_helper(abs(x),Zero,abs(y)))\n",
    "    \n",
    "}"
   ]
  },
  {
   "cell_type": "code",
   "execution_count": null,
   "metadata": {
    "deletable": false,
    "nbgrader": {
     "checksum": "f448f61c47b969474ed437a538c5db14",
     "grade": false,
     "grade_id": "mult",
     "locked": false,
     "schema_version": 1,
     "solution": true
    }
   },
   "outputs": [],
   "source": []
  },
  {
   "cell_type": "code",
   "execution_count": null,
   "metadata": {
    "deletable": false,
    "editable": false,
    "nbgrader": {
     "checksum": "ab2fd43c1b0edf69c570c5609e2fef7c",
     "grade": true,
     "grade_id": "mult-test",
     "locked": true,
     "points": 5,
     "schema_version": 1,
     "solution": false
    }
   },
   "outputs": [],
   "source": [
    "//Autograder cell -- do not edit, delete, or duplicate.\n",
    "assert(mult(Positive(two),Positive(three)) equals Positive(six))\n",
    "assert(mult(Positive(two),Negative(three)) equals Negative(six))\n",
    "assert(mult(Negative(one),Positive(five)) equals Negative(five))\n",
    "assert(mult(Negative(one),Negative(four)) equals Positive(four))"
   ]
  },
  {
   "cell_type": "markdown",
   "metadata": {},
   "source": [
    "### Exponentiation (5 points)\n",
    "\n",
    "recall that for ``pow`` we will restrict ourselves to only positive powers. Use the definition of `mult` from above so that your polarity(Positive/Negative) is correct. Recall the cases for $-x^n$ for even vs odd $n$. A hint for your base case: `pow(x, 0) = Positive( 1 )`"
   ]
  },
  {
   "cell_type": "code",
   "execution_count": null,
   "metadata": {
    "deletable": false,
    "nbgrader": {
     "checksum": "96c94588551d4f3e050c4c193c4f3562",
     "grade": false,
     "grade_id": "pow",
     "locked": false,
     "schema_version": 1,
     "solution": true
    }
   },
   "outputs": [],
   "source": [
    "def pow(x : Integer, y : Nat) : Integer = (x,y) match{\n",
    "    case (x,Zero) => Positive(one)\n",
    "    case (x,Succ(y)) => mult(x,pow(x,y))\n",
    "}"
   ]
  },
  {
   "cell_type": "code",
   "execution_count": null,
   "metadata": {
    "deletable": false,
    "nbgrader": {
     "checksum": "96c94588551d4f3e050c4c193c4f3562",
     "grade": false,
     "grade_id": "pow",
     "locked": false,
     "schema_version": 1,
     "solution": true
    }
   },
   "outputs": [],
   "source": []
  },
  {
   "cell_type": "code",
   "execution_count": null,
   "metadata": {
    "deletable": false,
    "editable": false,
    "nbgrader": {
     "checksum": "cee65f632fbe91a23052d41a11610b9f",
     "grade": true,
     "grade_id": "pow-test",
     "locked": true,
     "points": 5,
     "schema_version": 1,
     "solution": false
    }
   },
   "outputs": [],
   "source": [
    "//Autograder cell -- do not edit, delete, or duplicate.\n",
    "assert(pow(Positive(two),three) equals Positive(eight))\n",
    "assert(pow(Negative(two),three) equals Negative(eight))\n",
    "assert(pow(Negative(one),Zero) equals Positive(one))"
   ]
  },
  {
   "cell_type": "markdown",
   "metadata": {},
   "source": [
    "# The Arithmetic Language: Our First Interpreter\n",
    "\n",
    "Now we are ready to define our first interpreter. We will define the Arithmetic language syntax below as a sealed trait. It will be your job to correctly construct the interpreter for it based on the inference rules we covered in class. Recall that each rule corresponds to a case in the `eval` function.\n"
   ]
  },
  {
   "cell_type": "code",
   "execution_count": null,
   "metadata": {},
   "outputs": [],
   "source": [
    "sealed trait Expr \n",
    "case class Num(x : Integer) extends Expr \n",
    "case class Plus(x : Expr, y : Expr) extends Expr\n",
    "case class Minus(x : Expr, y : Expr) extends Expr\n",
    "case class Mult(x : Expr, y : Expr) extends Expr\n",
    "case class Pow(x : Expr, y : Nat) extends Expr"
   ]
  },
  {
   "cell_type": "markdown",
   "metadata": {},
   "source": [
    "## The Interpreter (15 points)\n",
    "\n",
    "Now that we have defined the syntax for Arithmetic expressions, go ahead and define the interpreter. We have given the signature for the function. (Bonus points if you define and use the helper function `eval-bin` that we discussed in class.\n",
    "\n",
    "Recall that the type of this interpreter should be $eval : \\text{Expr} \\rightarrow \\mathbb{Z}$"
   ]
  },
  {
   "cell_type": "code",
   "execution_count": null,
   "metadata": {
    "deletable": false,
    "nbgrader": {
     "checksum": "ed70e2280bed05e24abc68d8cd79f94d",
     "grade": false,
     "grade_id": "eval_bin",
     "locked": false,
     "schema_version": 1,
     "solution": true
    }
   },
   "outputs": [],
   "source": [
    "def eval_bin (f : ((Integer, Integer) => Integer), e1 : Expr, e2 : Expr) : Integer = (e1,e2) match{\n",
    "    case (Num(e1),Num(e2)) => f(e1,e2)\n",
    "}"
   ]
  },
  {
   "cell_type": "code",
   "execution_count": null,
   "metadata": {
    "deletable": false,
    "nbgrader": {
     "checksum": "c17728b83ee02bf3bf483e4be8ea48a4",
     "grade": false,
     "grade_id": "eval",
     "locked": false,
     "schema_version": 1,
     "solution": true
    }
   },
   "outputs": [],
   "source": [
    "def eval(expr : Expr) : Integer = expr match{\n",
    "    case Num(x) => x\n",
    "    case Plus(x,y) => eval_bin(plus,Num(eval(x)),Num(eval(y)))\n",
    "    case Minus(x,y) => eval_bin(minus,Num(eval(x)),Num(eval(y)))\n",
    "    case Mult(x,y) => eval_bin(mult,Num(eval(x)),Num(eval(y)))\n",
    "    case Pow(x,y) => pow(eval(x),y)\n",
    "}"
   ]
  },
  {
   "cell_type": "code",
   "execution_count": null,
   "metadata": {
    "deletable": false,
    "nbgrader": {
     "checksum": "c17728b83ee02bf3bf483e4be8ea48a4",
     "grade": false,
     "grade_id": "eval",
     "locked": false,
     "schema_version": 1,
     "solution": true
    }
   },
   "outputs": [],
   "source": []
  },
  {
   "cell_type": "code",
   "execution_count": null,
   "metadata": {
    "deletable": false,
    "editable": false,
    "nbgrader": {
     "checksum": "86359842dca2cbd8bd6f13c0b96f509a",
     "grade": true,
     "grade_id": "eval-test",
     "locked": true,
     "points": 15,
     "schema_version": 1,
     "solution": false
    }
   },
   "outputs": [],
   "source": [
    "//Autograder cell -- do not edit, delete, or duplicate.\n",
    "val expr1:Expr = Plus(Num(Positive(five)),Num(Negative(three)))//2\n",
    "val expr2:Expr = Minus(Num(Positive(three)),Num(Negative(two)))//5\n",
    "val expr3:Expr = Mult(expr1,expr2)//10\n",
    "val expr4:Expr = Minus(expr3,Num(Positive(eight)))//2\n",
    "val expr5:Expr = Pow(expr3,two)//100\n",
    "val expr6:Expr = Mult(expr3,expr3)//100\n",
    "assert(eval(Num(pos_one)) equals pos_one)\n",
    "assert(eval(expr1) equals Positive(two))\n",
    "assert(eval(expr2) equals Positive(five))\n",
    "assert(eval(expr3) equals Positive(ten))\n",
    "assert(eval(expr4) equals Positive(two))\n",
    "assert(eval(expr5) equals eval(expr6))"
   ]
  }
 ],
 "metadata": {
  "kernelspec": {
   "display_name": "Scala",
   "language": "scala",
   "name": "scala"
  },
  "language_info": {
   "codemirror_mode": "text/x-scala",
   "file_extension": ".scala",
   "mimetype": "",
   "name": "Scala",
   "nbconverter_exporter": "",
   "version": "2.11.12"
  }
 },
 "nbformat": 4,
 "nbformat_minor": 2
}
