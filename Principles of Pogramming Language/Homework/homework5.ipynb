{
 "cells": [
  {
   "cell_type": "markdown",
   "metadata": {},
   "source": [
    "Before you turn this problem in, make sure everything runs as expected. First, **restart the kernel** (in the menubar, select Kernel$\\rightarrow$Restart) and then **run all cells** (in the menubar, select Cell$\\rightarrow$Run All).\n",
    "\n",
    "Make sure you fill in any place that says `YOUR CODE HERE` or \"YOUR ANSWER HERE\", as well as your name and collaborators below:"
   ]
  },
  {
   "cell_type": "markdown",
   "metadata": {},
   "source": [
    "NAME = \"Oscar Delgado\"\n",
    "COLLABORATORS = \"Collin Murphy\""
   ]
  },
  {
   "cell_type": "markdown",
   "metadata": {},
   "source": [
    "---"
   ]
  },
  {
   "cell_type": "code",
   "execution_count": null,
   "metadata": {},
   "outputs": [],
   "source": [
    "import $file.hw5stdlib\n",
    "import hw5stdlib._"
   ]
  },
  {
   "cell_type": "code",
   "execution_count": null,
   "metadata": {},
   "outputs": [],
   "source": []
  },
  {
   "cell_type": "markdown",
   "metadata": {},
   "source": [
    "# Homework 5\n",
    "\n",
    "In this assignment we will develop some helpful structures for building the next interpreter.\n"
   ]
  },
  {
   "cell_type": "markdown",
   "metadata": {},
   "source": [
    "## Equality for $\\mathbb{Z}$ and $\\mathbb{B}$ (5 pts each)\n",
    "\n",
    "Define equality for Integers and Booleans(It may be helpful to define equality for Natural numbers to use in your definition of Integer). These should be functions of the form:\n",
    "\n",
    "$$\n",
    "eq : A \\rightarrow A \\rightarrow \\mathbb{B}\n",
    "$$\n",
    "\n",
    "Where you will want to fill each $A$ with the type of equality you are defining"
   ]
  },
  {
   "cell_type": "code",
   "execution_count": null,
   "metadata": {
    "deletable": false,
    "nbgrader": {
     "checksum": "f90df386ec67cf4993957e336725ea35",
     "grade": false,
     "grade_id": "nat_eq",
     "locked": false,
     "schema_version": 1,
     "solution": true
    }
   },
   "outputs": [],
   "source": [
    "def nat_eq(x : Nat, y : Nat) : Bool = (x,y) match {\n",
    "    case (Zero,Zero) => True\n",
    "    case(x,Zero) => False\n",
    "    case(Zero,y) => False\n",
    "    case (Succ(x),Succ(y)) =>nat_eq(x,y)\n",
    "}"
   ]
  },
  {
   "cell_type": "code",
   "execution_count": null,
   "metadata": {
    "deletable": false,
    "nbgrader": {
     "checksum": "3ae9ff69f96a879f9677a1898c0e2ac6",
     "grade": false,
     "grade_id": "int_eq",
     "locked": false,
     "schema_version": 1,
     "solution": true
    }
   },
   "outputs": [],
   "source": [
    "def int_eq(x : Integer, y : Integer) : Bool =(x,y) match {\n",
    "    case (Positive(Zero),Negative(Zero)) => True\n",
    "    case (Negative(Zero),Positive(Zero)) => True\n",
    "    case (Positive(x),Negative(y)) => False\n",
    "    case (Negative(x),Positive(y)) => False\n",
    "    case (x,y) => nat_eq(abs(x),abs(y))\n",
    "}"
   ]
  },
  {
   "cell_type": "code",
   "execution_count": null,
   "metadata": {
    "deletable": false,
    "nbgrader": {
     "checksum": "3ae9ff69f96a879f9677a1898c0e2ac6",
     "grade": false,
     "grade_id": "int_eq",
     "locked": false,
     "schema_version": 1,
     "solution": true
    }
   },
   "outputs": [],
   "source": []
  },
  {
   "cell_type": "code",
   "execution_count": null,
   "metadata": {
    "deletable": false,
    "editable": false,
    "nbgrader": {
     "checksum": "b88b9231037d05c9e55ef86de94424c1",
     "grade": true,
     "grade_id": "int_eq-test",
     "locked": true,
     "points": 5,
     "schema_version": 1,
     "solution": false
    }
   },
   "outputs": [],
   "source": [
    "// Autograder tests -- do not modify, duplicate, or delete\n",
    "implicit def adtBool2nativeBool: Bool => Boolean = { case True => true ; case _ => false }\n",
    "assert(int_eq(Positive(two), Positive(two)))\n",
    "assert(!int_eq(Positive(two), Positive(five)))\n",
    "assert(!int_eq(Positive(two), Negative(two)))\n",
    "assert(int_eq(Negative(five),Negative(five)))\n",
    "assert(int_eq(Positive(Zero),Negative(Zero)))"
   ]
  },
  {
   "cell_type": "code",
   "execution_count": null,
   "metadata": {
    "deletable": false,
    "nbgrader": {
     "checksum": "aa6b714be5ef118db9eae5e993313cac",
     "grade": false,
     "grade_id": "bool_eq",
     "locked": false,
     "schema_version": 1,
     "solution": true
    }
   },
   "outputs": [],
   "source": [
    "def bool_eq(x : Bool, y : Bool) : Bool = (x,y) match{\n",
    "    case (False,False) => True\n",
    "    case (x,y) => and(x,y) \n",
    "}"
   ]
  },
  {
   "cell_type": "code",
   "execution_count": null,
   "metadata": {
    "deletable": false,
    "nbgrader": {
     "checksum": "aa6b714be5ef118db9eae5e993313cac",
     "grade": false,
     "grade_id": "bool_eq",
     "locked": false,
     "schema_version": 1,
     "solution": true
    }
   },
   "outputs": [],
   "source": []
  },
  {
   "cell_type": "code",
   "execution_count": null,
   "metadata": {
    "deletable": false,
    "editable": false,
    "nbgrader": {
     "checksum": "2d26cac435894ac69665db1bcad8fa7c",
     "grade": true,
     "grade_id": "bool_eq-test",
     "locked": true,
     "points": 5,
     "schema_version": 1,
     "solution": false
    }
   },
   "outputs": [],
   "source": [
    "// Autograder tests -- do not modify, duplicate, or delete\n",
    "assert(bool_eq(True,  True))\n",
    "assert(bool_eq(False ,False))\n",
    "assert(!bool_eq(True,  False))\n",
    "assert(!bool_eq(False, True))"
   ]
  },
  {
   "cell_type": "markdown",
   "metadata": {},
   "source": [
    "## Dictionaries\n",
    "\n",
    "We will need to define the datatype $\\texttt{Dictionary}$ before we write the first interpreter for lettuce. We'll begin by giving the definition below:"
   ]
  },
  {
   "cell_type": "code",
   "execution_count": null,
   "metadata": {},
   "outputs": [],
   "source": [
    "sealed trait Dictionary[+A, +B] \n",
    "case object EmptyDict extends Dictionary[Nothing, Nothing]\n",
    "case class Entry[A,B](key : A, value : B, xs : Dictionary[A, B]) extends Dictionary[A, B]"
   ]
  },
  {
   "cell_type": "markdown",
   "metadata": {},
   "source": [
    "For both of the following functions you will need to provide a parameter for an equality-checking function. This is so we can check if keys are equal to eachother"
   ]
  },
  {
   "cell_type": "markdown",
   "metadata": {},
   "source": [
    "### Membership(In) (5pts)\n",
    "\n",
    "Write a function called `isIn` which returns `True` if the Dictionary contains a given key and `False` if it does not."
   ]
  },
  {
   "cell_type": "code",
   "execution_count": null,
   "metadata": {
    "deletable": false,
    "nbgrader": {
     "checksum": "2dff0e78b9f2d094e8ae052a8283375a",
     "grade": false,
     "grade_id": "isin",
     "locked": false,
     "schema_version": 1,
     "solution": true
    }
   },
   "outputs": [],
   "source": [
    "def isIn[A,B](eq : ((A,A) => Bool), dict : Dictionary[A,B], k : A ) : Bool = (eq,dict,k) match{\n",
    "    case (eq,EmptyDict,k) => False\n",
    "    case (eq,Entry(a,b,xs),k)=> eq(a,k) match{\n",
    "        case True => True\n",
    "        case False => isIn(eq,xs,k)\n",
    "    }\n",
    "}"
   ]
  },
  {
   "cell_type": "code",
   "execution_count": null,
   "metadata": {
    "deletable": false,
    "nbgrader": {
     "checksum": "2dff0e78b9f2d094e8ae052a8283375a",
     "grade": false,
     "grade_id": "isin",
     "locked": false,
     "schema_version": 1,
     "solution": true
    }
   },
   "outputs": [],
   "source": []
  },
  {
   "cell_type": "code",
   "execution_count": null,
   "metadata": {
    "deletable": false,
    "editable": false,
    "nbgrader": {
     "checksum": "d3f268377a1d9e5459af07fa14bc7c6c",
     "grade": true,
     "grade_id": "isin-test",
     "locked": true,
     "points": 5,
     "schema_version": 1,
     "solution": false
    }
   },
   "outputs": [],
   "source": [
    "// Autograder tests -- do not modify, duplicate, or delete\n",
    "val test_dictionary : Dictionary[Nat, String] =\n",
    "Entry(Zero, \"Zero\",\n",
    "      Entry(one, \"One\",\n",
    "            Entry(two,\"Two\",\n",
    "                  EmptyDict)))\n",
    "assert( isIn(nat_eq, test_dictionary, Zero))\n",
    "assert( isIn(nat_eq, test_dictionary, one))\n",
    "assert( isIn(nat_eq, test_dictionary, two))\n",
    "assert(!isIn(nat_eq, test_dictionary, three))\n",
    "assert(!isIn(nat_eq, test_dictionary, eight))"
   ]
  },
  {
   "cell_type": "markdown",
   "metadata": {},
   "source": [
    "### Lookup (5 pts)\n",
    "\n",
    "Write a function that retrieves a value that corresponds to a key in a dictionary. If the key is not in the map then return Nothing.\n",
    "\n",
    "$$\n",
    "\\texttt{lookup} : (a \\rightarrow a \\rightarrow \\mathbb{B}) \\rightarrow \\texttt{Dict}\\ a\\ b \\rightarrow a \\rightarrow \\texttt{Maybe}\\ b\n",
    "$$"
   ]
  },
  {
   "cell_type": "code",
   "execution_count": null,
   "metadata": {
    "deletable": false,
    "nbgrader": {
     "checksum": "3e83762f8ea48c31cdb7dde60184b9b9",
     "grade": false,
     "grade_id": "lookup",
     "locked": false,
     "schema_version": 1,
     "solution": true
    }
   },
   "outputs": [],
   "source": [
    "def lookup[A,B](eq : (A,A) => Bool, dict : Dictionary[A,B], k : A) : Maybe[B] = (eq,dict,k) match{\n",
    "    case (eq,EmptyDict,k) => Nothing\n",
    "    case (eq,dict,Nothing) => Nothing\n",
    "    case (eq,Entry(a,b,xs),k)=> eq(a,k) match{\n",
    "        case True => Just(b)\n",
    "        case False => lookup(eq,xs,k)\n",
    "    }\n",
    "}"
   ]
  },
  {
   "cell_type": "code",
   "execution_count": null,
   "metadata": {
    "deletable": false,
    "editable": false,
    "nbgrader": {
     "checksum": "8c5ced5b94319b5cef7c8c53ac896bb6",
     "grade": true,
     "grade_id": "lookup-test",
     "locked": true,
     "points": 5,
     "schema_version": 1,
     "solution": false
    }
   },
   "outputs": [],
   "source": [
    "// Autograder tests -- do not modify, duplicate, or delete\n",
    "assert(lookup(nat_eq, test_dictionary,Zero) equals Just(\"Zero\"))\n",
    "assert(lookup(nat_eq, test_dictionary,one) equals Just(\"One\"))\n",
    "assert(lookup(nat_eq, test_dictionary,two) equals Just(\"Two\"))\n",
    "assert(lookup(nat_eq, test_dictionary,three) equals Nothing)"
   ]
  },
  {
   "cell_type": "code",
   "execution_count": null,
   "metadata": {},
   "outputs": [],
   "source": []
  },
  {
   "cell_type": "code",
   "execution_count": null,
   "metadata": {},
   "outputs": [],
   "source": []
  }
 ],
 "metadata": {
  "kernelspec": {
   "display_name": "Scala",
   "language": "scala",
   "name": "scala"
  },
  "language_info": {
   "codemirror_mode": "text/x-scala",
   "file_extension": ".scala",
   "mimetype": "",
   "name": "Scala",
   "nbconverter_exporter": "",
   "version": "2.11.12"
  }
 },
 "nbformat": 4,
 "nbformat_minor": 2
}
