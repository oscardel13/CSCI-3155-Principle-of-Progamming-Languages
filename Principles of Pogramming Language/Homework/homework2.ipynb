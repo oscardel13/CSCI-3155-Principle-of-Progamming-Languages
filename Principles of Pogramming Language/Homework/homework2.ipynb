{
 "cells": [
  {
   "cell_type": "markdown",
   "metadata": {},
   "source": [
    "Before you turn this problem in, make sure everything runs as expected. First, **restart the kernel** (in the menubar, select Kernel$\\rightarrow$Restart) and then **run all cells** (in the menubar, select Cell$\\rightarrow$Run All).\n",
    "\n",
    "Make sure you fill in any place that says `YOUR CODE HERE` or \"YOUR ANSWER HERE\", as well as your name and collaborators below:"
   ]
  },
  {
   "cell_type": "code",
   "execution_count": null,
   "metadata": {},
   "outputs": [],
   "source": [
    "NAME = \"\"\n",
    "COLLABORATORS = \"\""
   ]
  },
  {
   "cell_type": "markdown",
   "metadata": {},
   "source": [
    "---"
   ]
  },
  {
   "cell_type": "code",
   "execution_count": null,
   "metadata": {},
   "outputs": [],
   "source": [
    "import $file.hw2stdlib\n",
    "import hw2stdlib._"
   ]
  },
  {
   "cell_type": "markdown",
   "metadata": {},
   "source": [
    "# Homework 2\n",
    "\n",
    "Due 6/14 at 11:59pm\n",
    "\n"
   ]
  },
  {
   "cell_type": "markdown",
   "metadata": {},
   "source": [
    "# Problem 1 (5 points)\n",
    "\n",
    "Write the minus function, which subtracts a natural number from another natural number. If the result would be less than zero then leave the answer as zero."
   ]
  },
  {
   "cell_type": "code",
   "execution_count": null,
   "metadata": {
    "deletable": false,
    "nbgrader": {
     "checksum": "06b5554c290fefcc4609a111d7ad0a97",
     "grade": false,
     "grade_id": "minus",
     "locked": false,
     "schema_version": 1,
     "solution": true
    }
   },
   "outputs": [],
   "source": [
    "def minus(x : Nat, y : Nat) : Nat = \n",
    "??? // YOUR CODE HERE"
   ]
  },
  {
   "cell_type": "code",
   "execution_count": null,
   "metadata": {
    "deletable": false,
    "editable": false,
    "nbgrader": {
     "checksum": "245f3b8064e9af1dd7c475d110a9cb5b",
     "grade": true,
     "grade_id": "minus-tests",
     "locked": true,
     "points": 5,
     "schema_version": 1,
     "solution": false
    }
   },
   "outputs": [],
   "source": [
    "assert(minus(three, two) == one)\n",
    "assert(minus(five,one) == four)\n",
    "assert(minus(one,Zero) == one)\n",
    "assert(minus(two,Zero) == two)"
   ]
  },
  {
   "cell_type": "markdown",
   "metadata": {},
   "source": [
    "# Problem 2 (5 points)\n",
    "\n",
    "Define the $\\texttt{pow}$ function, which raises a natural number to some power. Notationally: \n",
    "\n",
    "$$\n",
    "f\\ x\\ y = x^y\n",
    "$$\n",
    "\n",
    "Hint: Use the mult function from the stdlib for help"
   ]
  },
  {
   "cell_type": "code",
   "execution_count": null,
   "metadata": {
    "deletable": false,
    "nbgrader": {
     "checksum": "d7f57045f67ef33ab9ef965fc748b905",
     "grade": false,
     "grade_id": "pow",
     "locked": false,
     "schema_version": 1,
     "solution": true
    }
   },
   "outputs": [],
   "source": [
    "def pow(x : Nat, y : Nat) : Nat =\n",
    "??? // YOUR CODE HERE"
   ]
  },
  {
   "cell_type": "code",
   "execution_count": null,
   "metadata": {
    "deletable": false,
    "editable": false,
    "nbgrader": {
     "checksum": "4316dfb74e851bbb80448830611d7461",
     "grade": true,
     "grade_id": "pow-tests",
     "locked": true,
     "points": 5,
     "schema_version": 1,
     "solution": false
    }
   },
   "outputs": [],
   "source": [
    "assert(pow(one,one) == one)\n",
    "assert(pow(one,five) == one)\n",
    "assert(pow(three,two) == nine)\n",
    "assert(pow(two,three) == eight)\n",
    "assert(pow(ten,Zero) == one)"
   ]
  },
  {
   "cell_type": "markdown",
   "metadata": {},
   "source": [
    "# Problem 3 (5 points)\n",
    "\n",
    "Write the \"less than or equal to\" function for numbers. This function should return $True$ if $x < y$ and $False$ otherwise."
   ]
  },
  {
   "cell_type": "code",
   "execution_count": null,
   "metadata": {
    "deletable": false,
    "nbgrader": {
     "checksum": "32715a09d5d039b4451f04fa512fd8e0",
     "grade": false,
     "grade_id": "lte",
     "locked": false,
     "schema_version": 1,
     "solution": true
    }
   },
   "outputs": [],
   "source": [
    "def lte(x : Nat, y : Nat) : Bool =\n",
    "??? // YOUR CODE HERE"
   ]
  },
  {
   "cell_type": "code",
   "execution_count": null,
   "metadata": {
    "deletable": false,
    "editable": false,
    "nbgrader": {
     "checksum": "1fc780eb5b3686f0d23641340ef3f84b",
     "grade": true,
     "grade_id": "lte-tests",
     "locked": true,
     "points": 5,
     "schema_version": 1,
     "solution": false
    }
   },
   "outputs": [],
   "source": [
    "assert(lte(one,one) == True)\n",
    "assert(lte(four,four) == True)\n",
    "assert(lte(two,five) == True)\n",
    "assert(lte(five,two) == False)"
   ]
  }
 ],
 "metadata": {
  "kernelspec": {
   "display_name": "Scala",
   "language": "scala",
   "name": "scala"
  },
  "language_info": {
   "codemirror_mode": "text/x-scala",
   "file_extension": ".scala",
   "mimetype": "text/x-scala",
   "name": "scala",
   "nbconvert_exporter": "script",
   "version": "2.12.8"
  }
 },
 "nbformat": 4,
 "nbformat_minor": 2
}
