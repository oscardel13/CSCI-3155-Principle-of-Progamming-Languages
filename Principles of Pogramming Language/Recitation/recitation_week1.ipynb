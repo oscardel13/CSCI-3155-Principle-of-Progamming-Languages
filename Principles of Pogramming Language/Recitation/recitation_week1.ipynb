{
 "cells": [
  {
   "cell_type": "markdown",
   "metadata": {},
   "source": [
    "# Recitation: Week 1\n",
    "\n",
    "## Topics\n",
    "\n",
    "* Scala encodings of:\n",
    "  * Algebraic Datatypes\n",
    "  * Functions\n",
    "  * Pattern Matching\n",
    "\n",
    "## Defining Types\n",
    "\n",
    "We saw this week that we can define new types when we feel they will be useful and have some meaning in our Formal System. The first example we saw was the Booleans($\\mathbb{B}$). Here is a refresher of the defintion:\n",
    "\n",
    "$$\n",
    "\\begin{align}\n",
    "\\mathbb{B} := \\text{true}\\ \\mid\\ \\text{false}\n",
    "\\end{align}\n",
    "$$\n",
    "\n",
    "Below we will now write this definition in Scala:"
   ]
  },
  {
   "cell_type": "code",
   "execution_count": null,
   "metadata": {},
   "outputs": [],
   "source": []
  },
  {
   "cell_type": "markdown",
   "metadata": {},
   "source": [
    "### Some Boolean Values\n",
    "\n",
    "We can test that this works by trying to construct some values of Bool. There are only two so this should be fairly easy."
   ]
  },
  {
   "cell_type": "code",
   "execution_count": null,
   "metadata": {},
   "outputs": [],
   "source": []
  },
  {
   "cell_type": "markdown",
   "metadata": {},
   "source": [
    "## Defining Functions \n",
    "\n",
    "The next thing we might want to do is define some functions on the Booleans. This should be fairly simple to do. Let's start with the simple identity function. Identity takes in some boolean and returns that same boolean. Formally, we write this as:\n",
    "\n",
    "$$\n",
    "\\begin{align}\n",
    "\\text{id}& : \\mathbb{B} \\rightarrow \\mathbb{B}\\\\\n",
    "\\text{id}&\\ x = x\n",
    "\\end{align}\n",
    "$$\n",
    "\n",
    "And in Scala:"
   ]
  },
  {
   "cell_type": "code",
   "execution_count": null,
   "metadata": {},
   "outputs": [],
   "source": []
  },
  {
   "cell_type": "markdown",
   "metadata": {},
   "source": [
    "Now we can try to define some more interesting functions. Lets do negation of Booleans.\n",
    "\n",
    "$$\n",
    "\\begin{align}\n",
    "\\text{not}& : \\mathbb{B} \\rightarrow \\mathbb{B}\\\\\n",
    "\\text{not}& \\text{true}\\ = \\text{false}\\\\\n",
    "\\text{not}& \\text{false}\\ = \\text{true}\n",
    "\\end{align}\n",
    "$$\n"
   ]
  },
  {
   "cell_type": "code",
   "execution_count": null,
   "metadata": {},
   "outputs": [],
   "source": []
  },
  {
   "cell_type": "markdown",
   "metadata": {},
   "source": [
    "## More Boolean Functions\n",
    "\n",
    "### And"
   ]
  },
  {
   "cell_type": "code",
   "execution_count": null,
   "metadata": {},
   "outputs": [],
   "source": []
  },
  {
   "cell_type": "code",
   "execution_count": null,
   "metadata": {},
   "outputs": [],
   "source": []
  },
  {
   "cell_type": "markdown",
   "metadata": {},
   "source": [
    "### Or"
   ]
  },
  {
   "cell_type": "code",
   "execution_count": null,
   "metadata": {},
   "outputs": [],
   "source": []
  },
  {
   "cell_type": "markdown",
   "metadata": {},
   "source": [
    "### XOR"
   ]
  },
  {
   "cell_type": "code",
   "execution_count": null,
   "metadata": {},
   "outputs": [],
   "source": []
  },
  {
   "cell_type": "markdown",
   "metadata": {},
   "source": [
    "### Nand\n",
    "\n",
    "Try to define this one in two different ways: with and without pattern matching"
   ]
  },
  {
   "cell_type": "code",
   "execution_count": null,
   "metadata": {},
   "outputs": [],
   "source": []
  },
  {
   "cell_type": "code",
   "execution_count": null,
   "metadata": {},
   "outputs": [],
   "source": []
  },
  {
   "cell_type": "markdown",
   "metadata": {},
   "source": [
    "## Algebraic Datatypes\n",
    "\n",
    "We can also encode more complication Algebraic Datatypes in Scala such as the Natural Numbers, Lists, Maybe, and more.\n",
    "\n",
    "Let's now encode the natural numbers:\n",
    "\n",
    "$$\n",
    "\\begin{align}\n",
    "\\mathbb{N} :=&\\ \\text{zero} \\\\\n",
    "\\mid&\\ \\text{succ}\\ \\mathbb{N}\n",
    "\\end{align}\n",
    "$$"
   ]
  },
  {
   "cell_type": "code",
   "execution_count": null,
   "metadata": {},
   "outputs": [],
   "source": []
  },
  {
   "cell_type": "markdown",
   "metadata": {},
   "source": [
    "As a sanity check we can also define some values of type Nat:"
   ]
  },
  {
   "cell_type": "code",
   "execution_count": null,
   "metadata": {},
   "outputs": [],
   "source": []
  },
  {
   "cell_type": "markdown",
   "metadata": {},
   "source": [
    "This week's homework will explore functions on the natural numbers along with some more ADT definitions"
   ]
  }
 ],
 "metadata": {
  "kernelspec": {
   "display_name": "Scala",
   "language": "scala",
   "name": "scala"
  },
  "language_info": {
   "codemirror_mode": "text/x-scala",
   "file_extension": ".scala",
   "mimetype": "text/x-scala",
   "name": "scala211",
   "nbconvert_exporter": "script",
   "pygments_lexer": "scala",
   "version": "2.11.11"
  }
 },
 "nbformat": 4,
 "nbformat_minor": 2
}
